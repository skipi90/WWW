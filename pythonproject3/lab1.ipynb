{
 "cells": [
  {
   "cell_type": "code",
   "execution_count": null,
   "metadata": {
    "pycharm": {
     "is_executing": true
    }
   },
   "outputs": [],
   "source": [
    "from PIL import Image  # Python Imaging Library\n",
    "import numpy as np"
   ]
  },
  {
   "cell_type": "code",
   "execution_count": null,
   "metadata": {
    "pycharm": {
     "is_executing": true
    }
   },
   "outputs": [],
   "source": [
    "# ---------- wczytywanie obrazu zapisanego w różnych formatach .bmp, .jpg, .png oraz pobieranie informacji o obrazie  -------------------\n",
    "obrazek = Image.open(\"obrazek.bmp\")  # wczytywanie obrazu\n",
    "print(\"---------- informacje o obrazie\")\n",
    "print(\"tryb:\", obrazek.mode)\n",
    "print(\"format:\", obrazek.format)\n",
    "print(\"rozmiar:\", obrazek.size)"
   ]
  },
  {
   "cell_type": "code",
   "execution_count": null,
   "metadata": {},
   "outputs": [],
   "source": [
    "obrazek"
   ]
  },
  {
   "cell_type": "code",
   "execution_count": null,
   "metadata": {},
   "outputs": [],
   "source": [
    "obrazek.show()"
   ]
  },
  {
   "cell_type": "code",
   "execution_count": null,
   "metadata": {},
   "outputs": [],
   "source": [
    "# ---------- wczytywanie obrazu do tablicy oraz pobieranie informacji o tablicach ------------------------------\n",
    "dane_obrazka = np.asarray(obrazek)\n",
    "print(\"---------------- informacje o tablicy obrazu----------------\")\n",
    "print(\"typ danych tablicy:\", dane_obrazka.dtype)  # typ danych przechowywanych w tablicy\n",
    "print(\"rozmiar tablicy:\", dane_obrazka.shape)  # rozmiar tablicy - warto porównac z rozmiarami obrazka\n",
    "print(\"liczba elementow:\", dane_obrazka.size)  # liczba elementów tablicy\n",
    "print(\"wymiar tablicy:\", dane_obrazka.ndim)  # wymiar mówi czy to jest talica 1D, 2d, 3D ...\n",
    "print(\"rozmiar wyrazu tablicy:\",\n",
    "      dane_obrazka.itemsize)  # pokazuje ile bajtów trzeba do zapisu wartości elementu\n",
    "print(\"pierwszy wyraz:\", dane_obrazka[0][0])\n",
    "print(\"drugi wyraz:\", dane_obrazka[1][0])\n",
    "print(\"***************************************\")\n",
    "print(dane_obrazka)  # mozna  zobaczyć tablicę "
   ]
  },
  {
   "cell_type": "code",
   "execution_count": null,
   "metadata": {},
   "outputs": [],
   "source": [
    "ob_d = Image.fromarray(dane_obrazka)  # tworzenie obrazu z tablicy dane_obrazka (typ bool)\n",
    "#ob_d\n",
    "ob_d.show()"
   ]
  },
  {
   "cell_type": "code",
   "execution_count": null,
   "metadata": {},
   "outputs": [],
   "source": [
    "# ----- wyswietlanie informacji o obrazie -----------------------------\n",
    "\n",
    "print(\"tryb:\", ob_d.mode)\n",
    "print(\"format:\", ob_d.format)\n",
    "print(\"rozmiar:\", ob_d.size)"
   ]
  },
  {
   "cell_type": "code",
   "execution_count": null,
   "metadata": {},
   "outputs": [],
   "source": [
    "# ------------------------   wczytywanie obrazu do tablicy z jednoczesnym okresleniem typu danych ---------------------\n",
    "dane_obrazka1 = dane_obrazka * 1  # zmienia typ bool na int\n",
    "print(dane_obrazka1)"
   ]
  },
  {
   "cell_type": "code",
   "execution_count": null,
   "metadata": {},
   "outputs": [],
   "source": [
    "ob_d1 = Image.fromarray(dane_obrazka1)  # tworzenie obrazu z tablicy dane_obrazka1 (typ int)\n",
    "# ----- wyswietlanie informacji o obrazie -----------------------------\n",
    "print(\"tryb:\", ob_d1.mode)\n",
    "print(\"format:\", ob_d1.format)\n",
    "print(\"rozmiar:\", ob_d1.size)"
   ]
  },
  {
   "cell_type": "code",
   "execution_count": null,
   "metadata": {},
   "outputs": [],
   "source": [
    "ob_d1.show()\n",
    "# WAŻNE PYTANIE NA NASTEPNE ZAJECIA!!!  DLACZEGO ob_d1 widać jako obraz czarny?"
   ]
  },
  {
   "cell_type": "code",
   "execution_count": null,
   "metadata": {},
   "outputs": [],
   "source": [
    "# ---------------- zapisywanie obrazu do pliku -----------------\n",
    "ob_d.save(\"obraz_zapisany.bmp\")  # jako argument podajemy nazwę pliku wraz z rozszerzeniem, \n",
    "# bo w zależności od tego w jakim formacie zapiszemy otrzymamy różne tablice obrazu\n"
   ]
  },
  {
   "cell_type": "code",
   "execution_count": null,
   "metadata": {},
   "outputs": [],
   "source": [
    "# wczytywanie tablicy z pliku UWAGA! plik txt powinien zawierac same zera i jedynki oddzielane spacjami bez dodatkowych znaków jak w pliku dane.txt\n",
    "t1 = np.loadtxt(\"dane.txt\", dtype=np.bool_)\n",
    "t2 = np.loadtxt(\"dane.txt\", dtype=np.int_)\n",
    "t3 = np.loadtxt(\"dane.txt\", dtype=np.uint8)\n",
    "\n",
    "# w zależnosci od tego, jakie operacje chcemy zrobić na tablicy, wybieramy jedną z powyższych postaci tablicy\n",
    "print(\"typ danych tablicy t1:\", t1.dtype)  # typ danych przechowywanych w tablicy\n",
    "print(\"rozmiar tablicy t1 :\", t1.shape)  # rozmiar tablicy - warto porównac z rozmiarami obrazka\n",
    "print(\"wymiar tablicy t1 :\", t1.ndim)  # wymiar mówi czy to jest talica 1D, 2d, 3D ...\n",
    "\n",
    "print(\"typ danych tablicy t2:\", t2.dtype)  # typ danych przechowywanych w tablicy\n",
    "print(\"rozmiar tablicy t2 :\", t2.shape)  # rozmiar tablicy - warto porównac z rozmiarami obrazka\n",
    "print(\"wymiar tablicy t2 :\", t2.ndim)  # wymiar mówi czy to jest talica 1D, 2d, 3D ...\n",
    "\n",
    "print(\"typ danych tablicy t3:\", t3.dtype)  # typ danych przechowywanych w tablicy\n",
    "print(\"rozmiar tablicy t3 :\", t3.shape)  # rozmiar tablicy - warto porównac z rozmiarami obrazka\n",
    "print(\"wymiar tablicy t3 :\", t3.ndim)  # wymiar mówi czy to jest talica 1D, 2d, 3D ..."
   ]
  },
  {
   "cell_type": "code",
   "execution_count": null,
   "metadata": {},
   "outputs": [],
   "source": [
    "print(t1)"
   ]
  },
  {
   "cell_type": "code",
   "execution_count": null,
   "metadata": {},
   "outputs": [],
   "source": [
    "print(t2)"
   ]
  },
  {
   "cell_type": "code",
   "execution_count": null,
   "metadata": {},
   "outputs": [],
   "source": [
    "print(t3)"
   ]
  },
  {
   "cell_type": "code",
   "execution_count": null,
   "metadata": {},
   "outputs": [],
   "source": [
    "# zapis tablicy do pliku\n",
    "t1_text = open('t1.txt', 'w')\n",
    "for rows in t1:\n",
    "    for item in rows:\n",
    "        t1_text.write(str(item) + ' ')\n",
    "    t1_text.write('\\n')\n",
    "\n",
    "t1_text.close()"
   ]
  }
 ],
 "metadata": {
  "kernelspec": {
   "display_name": "Python 3",
   "language": "python",
   "name": "python3"
  },
  "language_info": {
   "codemirror_mode": {
    "name": "ipython",
    "version": 3
   },
   "file_extension": ".py",
   "mimetype": "text/x-python",
   "name": "python",
   "nbconvert_exporter": "python",
   "pygments_lexer": "ipython3",
   "version": "3.8.0"
  },
  "orig_nbformat": 4
 },
 "nbformat": 4,
 "nbformat_minor": 2
}
