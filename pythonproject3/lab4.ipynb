{
 "cells": [
  {
   "cell_type": "code",
   "execution_count": null,
   "metadata": {},
   "outputs": [],
   "source": [
    "from PIL import Image\n",
    "import numpy as np\n",
    "from PIL import ImageChops\n",
    "from PIL import ImageStat as stat\n",
    "import matplotlib.pyplot as plt\n",
    "from random import randint"
   ]
  },
  {
   "cell_type": "code",
   "execution_count": null,
   "metadata": {},
   "outputs": [],
   "source": [
    "im = Image.open('jesien.jpg')\n",
    "print(\"tryb\", im.mode)\n",
    "print(\"format\", im.format)\n",
    "print(\"rozmiar\", im.size)\n",
    "h, w = im.size\n",
    "im"
   ]
  },
  {
   "cell_type": "markdown",
   "metadata": {},
   "source": [
    "Dwukrotne zapisanie z formacie JPEG"
   ]
  },
  {
   "cell_type": "code",
   "execution_count": null,
   "metadata": {},
   "outputs": [],
   "source": [
    "im.save('jesien1.jpg')"
   ]
  },
  {
   "cell_type": "code",
   "execution_count": null,
   "metadata": {},
   "outputs": [],
   "source": [
    "im1 = Image.open('jesien1.jpg')\n",
    "im1.save('jesien2.jpg')"
   ]
  },
  {
   "cell_type": "code",
   "execution_count": null,
   "metadata": {},
   "outputs": [],
   "source": [
    "im2 = Image.open('jesien2.jpg')"
   ]
  },
  {
   "cell_type": "code",
   "execution_count": null,
   "metadata": {},
   "outputs": [],
   "source": [
    "plt.figure(figsize=(32, 16))\n",
    "plt.subplot(1,3,1) \n",
    "plt.imshow(im)\n",
    "plt.axis('off')\n",
    "plt.subplot(1,3,2)\n",
    "plt.imshow(im1)\n",
    "plt.axis('off')\n",
    "plt.subplot(1,3,3)\n",
    "plt.imshow(im2)\n",
    "plt.axis('off')\n",
    "plt.subplots_adjust(wspace=0.05, hspace=0.05)\n",
    "plt.show()"
   ]
  },
  {
   "cell_type": "markdown",
   "metadata": {},
   "source": [
    "Wyznaczanie różnic"
   ]
  },
  {
   "cell_type": "code",
   "execution_count": null,
   "metadata": {},
   "outputs": [],
   "source": [
    "\n",
    "dif1 = ImageChops.difference(im, im1)\n",
    "dif2 = ImageChops.difference(im, im2)\n",
    "dif3 = ImageChops.difference(im1, im2)"
   ]
  },
  {
   "cell_type": "code",
   "execution_count": null,
   "metadata": {},
   "outputs": [],
   "source": [
    "plt.figure(figsize=(32, 16))\n",
    "plt.subplot(1, 3, 1) \n",
    "plt.imshow(dif1)\n",
    "plt.axis('off')\n",
    "plt.subplot(1, 3, 2)\n",
    "plt.imshow(dif2)\n",
    "plt.axis('off')\n",
    "plt.subplot(1, 3, 3)\n",
    "plt.imshow(dif3)\n",
    "plt.axis('off')\n",
    "plt.subplots_adjust(wspace=0.05, hspace=0.05)\n",
    "plt.show()"
   ]
  },
  {
   "cell_type": "markdown",
   "metadata": {},
   "source": [
    "Statystyki obrazu"
   ]
  },
  {
   "cell_type": "code",
   "execution_count": null,
   "metadata": {},
   "outputs": [],
   "source": [
    "def statystyki(im):\n",
    "    s = stat.Stat(im)\n",
    "    print(\"extrema \", s.extrema)  # max i min\n",
    "    print(\"count \", s.count)  # zlicza\n",
    "    print(\"mean \", s.mean)  # srednia\n",
    "    print(\"median \", s.median)  # mediana\n",
    "    print(\"stddev \", s.stddev)  # odchylenie standardowe"
   ]
  },
  {
   "cell_type": "code",
   "execution_count": null,
   "metadata": {},
   "outputs": [],
   "source": [
    "statystyki(dif1)\n"
   ]
  },
  {
   "cell_type": "code",
   "execution_count": null,
   "metadata": {},
   "outputs": [],
   "source": [
    "hist = dif1.histogram()\n",
    "p = 0\n",
    "print(hist[p])\n",
    "print(hist[256 + p])\n",
    "print(hist[2*256 + p])"
   ]
  },
  {
   "cell_type": "code",
   "execution_count": null,
   "metadata": {},
   "outputs": [],
   "source": [
    "def rysuj_histogram_RGB(obraz):\n",
    "    hist = obraz.histogram()\n",
    "    plt.title(\"histogram  \")\n",
    "    plt.bar(range(256), hist[:256], color='r', alpha=0.5)\n",
    "    plt.bar(range(256), hist[256:2 * 256], color='g', alpha=0.4)\n",
    "    plt.bar(range(256), hist[2 * 256:], color='b', alpha=0.3)\n",
    "    plt.show()"
   ]
  },
  {
   "cell_type": "code",
   "execution_count": null,
   "metadata": {},
   "outputs": [],
   "source": [
    "rysuj_histogram_RGB(dif1)"
   ]
  },
  {
   "cell_type": "code",
   "execution_count": null,
   "metadata": {},
   "outputs": [],
   "source": [
    "statystyki(dif2)"
   ]
  },
  {
   "cell_type": "code",
   "execution_count": null,
   "metadata": {},
   "outputs": [],
   "source": [
    "hist = dif2.histogram()\n",
    "p = 0\n",
    "print(hist[p])\n",
    "print(hist[256 + p])\n",
    "print(hist[2*256 + p])"
   ]
  },
  {
   "cell_type": "code",
   "execution_count": null,
   "metadata": {},
   "outputs": [],
   "source": [
    "statystyki(dif3)"
   ]
  },
  {
   "cell_type": "code",
   "execution_count": null,
   "metadata": {},
   "outputs": [],
   "source": [
    "hist = dif3.histogram()\n",
    "p = 0\n",
    "print(hist[p])\n",
    "print(hist[256 + p])\n",
    "print(hist[2*256 + p])"
   ]
  },
  {
   "cell_type": "markdown",
   "metadata": {},
   "source": [
    "Propozycje funkcji oceny różnic"
   ]
  },
  {
   "cell_type": "code",
   "execution_count": null,
   "metadata": {},
   "outputs": [],
   "source": [
    "def zlicz_roznice_srednia_RGB(obraz, wsp): # wsp - współczynnik określający dokładność oceny\n",
    "    t_obraz = np.asarray(obraz)\n",
    "    h, w, d = t_obraz.shape\n",
    "    zlicz = 0\n",
    "    for i in range(h):\n",
    "        for j in range(w):\n",
    "                if np.mean(t_obraz[i, j, :]) > wsp:    \n",
    "                    zlicz = zlicz + 1 \n",
    "    procent = zlicz/(h*w)\n",
    "    return zlicz, procent\n",
    "\n",
    "def zlicz_roznice_suma_RGB(obraz, wsp): # wsp - współczynnik określający dokładność oceny\n",
    "    t_obraz = np.asarray(obraz)\n",
    "    h, w, d = t_obraz.shape\n",
    "    zlicz = 0\n",
    "    for i in range(h):\n",
    "        for j in range(w):\n",
    "                if sum(t_obraz[i, j, :]) > wsp: # poniżej równoważne sformułowania tego warunku\n",
    "                # if (t_obraz[i, j, 0] + t_obraz[i, j, 1] + t_obraz[i, j, 2]) > wsp:\n",
    "                # if t_obraz[i, j, 0] > wsp or  t_obraz[i, j, 1] > wsp or t_obraz[i, j, 2] > wsp: \n",
    "                    zlicz = zlicz + 1 \n",
    "    procent = zlicz/(h*w)\n",
    "    return zlicz, procent\n",
    "                   \n"
   ]
  },
  {
   "cell_type": "code",
   "execution_count": null,
   "metadata": {},
   "outputs": [],
   "source": [
    "wsp = 10\n",
    "zlicz, procent = zlicz_roznice_srednia_RGB(dif3, wsp)\n",
    "print('liczba niepasujących pikseli = ' , zlicz)\n",
    "print('procent niepasujących pikseli = ' , procent)\n",
    "zlicz1, procent1 = zlicz_roznice_suma_RGB(dif3, wsp)\n",
    "print('liczba niepasujących pikseli = ' , zlicz1)\n",
    "print('procent niepasujących pikseli = ' , procent1)"
   ]
  },
  {
   "cell_type": "markdown",
   "metadata": {},
   "source": [
    "Ukrywanie informacji w obrazie"
   ]
  },
  {
   "cell_type": "code",
   "execution_count": null,
   "metadata": {},
   "outputs": [],
   "source": [
    "im_kod = Image.open('kod.bmp')"
   ]
  },
  {
   "cell_type": "code",
   "execution_count": null,
   "metadata": {},
   "outputs": [],
   "source": [
    "def ukryj_kod(obraz, im_kod):\n",
    "    t_obraz = np.asarray(obraz)\n",
    "    t_kodowany = t_obraz.copy()\n",
    "    h, w, d = t_obraz.shape\n",
    "    t_kod = np.asarray(im_kod)\n",
    "    for i in range(h):\n",
    "        for j in range(w):\n",
    "            if t_kod[i, j] > 0:\n",
    "                k = randint(0,2)\n",
    "                t_kodowany[i, j, k] = t_obraz[i, j, k] + 1\n",
    "    return Image.fromarray(t_kodowany) "
   ]
  },
  {
   "cell_type": "code",
   "execution_count": null,
   "metadata": {},
   "outputs": [],
   "source": [
    "im_kodowany = ukryj_kod(im, im_kod)\n",
    "im_kodowany"
   ]
  },
  {
   "cell_type": "markdown",
   "metadata": {},
   "source": [
    "Próba odkrycia kodu z użyciem ImageChops.difference (nieskuteczna)"
   ]
  },
  {
   "cell_type": "code",
   "execution_count": null,
   "metadata": {},
   "outputs": [],
   "source": [
    "odkodowany = ImageChops.difference(im, im_kodowany)\n",
    "odkodowany"
   ]
  }
 ],
 "metadata": {
  "kernelspec": {
   "display_name": "Python 3.8.0 64-bit",
   "language": "python",
   "name": "python3"
  },
  "language_info": {
   "codemirror_mode": {
    "name": "ipython",
    "version": 3
   },
   "file_extension": ".py",
   "mimetype": "text/x-python",
   "name": "python",
   "nbconvert_exporter": "python",
   "pygments_lexer": "ipython3",
   "version": "3.8.0"
  },
  "orig_nbformat": 4,
  "vscode": {
   "interpreter": {
    "hash": "cab8b2d0ca949cb1738e0ea8660584997c5c560dc4d9bf125aa6b37ab39de048"
   }
  }
 },
 "nbformat": 4,
 "nbformat_minor": 2
}
